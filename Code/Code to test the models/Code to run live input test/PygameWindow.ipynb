{
 "cells": [
  {
   "cell_type": "code",
   "execution_count": 1,
   "id": "76ac1b44",
   "metadata": {
    "scrolled": true
   },
   "outputs": [
    {
     "name": "stdout",
     "output_type": "stream",
     "text": [
      "pygame 2.1.2 (SDL 2.0.18, Python 3.9.12)\n",
      "Hello from the pygame community. https://www.pygame.org/contribute.html\n"
     ]
    }
   ],
   "source": [
    "import pygame"
   ]
  },
  {
   "cell_type": "code",
   "execution_count": 2,
   "id": "81101e92",
   "metadata": {},
   "outputs": [],
   "source": [
    "import  sys\n",
    "from pygame.locals import *\n",
    "import numpy as np\n",
    "from keras.models import load_model\n",
    "import cv2\n",
    "\n",
    "WINDOWSIZEX = 640\n",
    "WINDOWSIZEY = 480\n",
    "\n",
    "BOUNDRYINC = 5\n",
    "WHITE = (255,255,255)\n",
    "BLACK = (0,0,0)\n",
    "RED = (255,0,0)\n",
    "\n",
    "IMAGESAVE = False\n",
    "\n",
    "MODEL = load_model(\"C:\\\\Users\\\\shubh\\\\Desktop\\\\Project To Submit\\\\Models\\\\ModelP1.h5\")\n",
    "\n",
    "LABELS = {0:\"Zero\",1:\"One\",2:\"Two\",3:\"Three\",4:\"Four\",5:\"Five\",6:\"Six\",7:\"Seven\",8:\"Eight\",9:\"Nine\"}\n",
    "\n",
    "#Initialize your pygame\n",
    "pygame.init()\n",
    "\n",
    "FONT = pygame.font.Font('freesansbold.ttf',18)\n",
    "DISPLAYSURF = pygame.display.set_mode([WINDOWSIZEX,WINDOWSIZEY])\n",
    "#WHILE_INT = DISPLAYSURF.mp_rgb(WHITE)\n",
    "pygame.display.set_caption(\"Digit Board\")"
   ]
  },
  {
   "cell_type": "code",
   "execution_count": 3,
   "id": "8c007de3",
   "metadata": {},
   "outputs": [
    {
     "name": "stdout",
     "output_type": "stream",
     "text": [
      "1/1 [==============================] - 0s 149ms/step\n",
      "1/1 [==============================] - 0s 17ms/step\n",
      "1/1 [==============================] - 0s 16ms/step\n",
      "1/1 [==============================] - 0s 21ms/step\n",
      "1/1 [==============================] - 0s 19ms/step\n",
      "1/1 [==============================] - 0s 20ms/step\n",
      "1/1 [==============================] - 0s 19ms/step\n",
      "1/1 [==============================] - 0s 22ms/step\n",
      "1/1 [==============================] - 0s 20ms/step\n",
      "1/1 [==============================] - 0s 21ms/step\n",
      "1/1 [==============================] - 0s 20ms/step\n"
     ]
    }
   ],
   "source": [
    "iswriting = False\n",
    "\n",
    "number_xcord = []\n",
    "number_ycord = []\n",
    "imag_cnt = 1\n",
    "PREDICT = True\n",
    "run = True\n",
    "\n",
    "while run:\n",
    "    for event in pygame.event.get():\n",
    "        if event.type == pygame.QUIT:\n",
    "            #pygame.quit()\n",
    "            #sys.exit()\n",
    "            run = False\n",
    "            \n",
    "        if event.type == MOUSEMOTION and iswriting:\n",
    "            xcord, ycord = event.pos\n",
    "            pygame.draw.circle(DISPLAYSURF, WHITE, (xcord,ycord),4, 0)\n",
    "            number_xcord.append(xcord)\n",
    "            number_ycord.append(ycord)\n",
    "            \n",
    "        if event.type == MOUSEBUTTONDOWN:\n",
    "            iswriting = True\n",
    "        \n",
    "        if event.type == MOUSEBUTTONUP:\n",
    "            iswriting = False\n",
    "            number_xcord = sorted(number_xcord)\n",
    "            number_ycord = sorted(number_ycord)\n",
    "            \n",
    "            \n",
    "            rect_min_x , rect_max_x = max(number_xcord[0] - BOUNDRYINC, 0), min(WINDOWSIZEX, number_xcord[-1]+BOUNDRYINC)\n",
    "            rect_min_y , rect_max_y = max(number_ycord[0] - BOUNDRYINC, 0), min(number_ycord[-1]+BOUNDRYINC, WINDOWSIZEX)\n",
    "            \n",
    "            number_xcord = []\n",
    "            number_ycord = []\n",
    "            \n",
    "            img_arr = np.array(pygame.PixelArray(DISPLAYSURF))[rect_min_x:rect_max_x, rect_min_y:rect_max_y].T.astype(np.float32)\n",
    "            \n",
    "            \n",
    "            if IMAGESAVE:\n",
    "                cv2.imwrite(\"image.png\")\n",
    "                imag_cnt +=1\n",
    "                \n",
    "                \n",
    "            if PREDICT:\n",
    "                \n",
    "                image = cv2.resize(img_arr, (28,28))\n",
    "                #image = cv2.pad(image, (10,10), \"constant\", constant_values = 0) #remove comment after testing\n",
    "                image = cv2.resize(image, (28,28))/255\n",
    "                \n",
    "                label = str(LABELS[np.argmax(MODEL.predict(image.reshape(1,28,28,1)))]) #Make Dimension changes here if required \n",
    "\n",
    "                textSurface = FONT.render(label, True, RED, WHITE)\n",
    "                textRecObj = textSurface.get_rect()\n",
    "                textRecObj.left , textRecObj.bottom = rect_min_x, rect_max_y\n",
    "                \n",
    "                DISPLAYSURF.blit(textSurface, textRecObj)\n",
    "                \n",
    "                \n",
    "        if event.type == KEYDOWN:\n",
    "            if (event.unicode == 'n' or event.unicode == 'N'):\n",
    "                DISPLAYSURF.fill(BLACK)\n",
    "                \n",
    "    pygame.display.update()\n",
    "pygame.quit() #added after pygame tutorial                \n",
    "       "
   ]
  },
  {
   "cell_type": "code",
   "execution_count": null,
   "id": "48a28419",
   "metadata": {},
   "outputs": [],
   "source": []
  }
 ],
 "metadata": {
  "kernelspec": {
   "display_name": "Python 3 (ipykernel)",
   "language": "python",
   "name": "python3"
  },
  "language_info": {
   "codemirror_mode": {
    "name": "ipython",
    "version": 3
   },
   "file_extension": ".py",
   "mimetype": "text/x-python",
   "name": "python",
   "nbconvert_exporter": "python",
   "pygments_lexer": "ipython3",
   "version": "3.9.12"
  }
 },
 "nbformat": 4,
 "nbformat_minor": 5
}

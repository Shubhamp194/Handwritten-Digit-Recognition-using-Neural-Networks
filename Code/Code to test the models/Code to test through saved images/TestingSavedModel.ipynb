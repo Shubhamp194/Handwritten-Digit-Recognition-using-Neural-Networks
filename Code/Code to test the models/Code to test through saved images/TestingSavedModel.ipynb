{
 "cells": [
  {
   "cell_type": "code",
   "execution_count": 1,
   "id": "934fde3a",
   "metadata": {},
   "outputs": [],
   "source": [
    "import tensorflow as tf\n",
    "import pandas as pd\n",
    "import numpy as np\n",
    "import matplotlib.pyplot as plt\n"
   ]
  },
  {
   "cell_type": "code",
   "execution_count": 2,
   "id": "7496c9dc",
   "metadata": {},
   "outputs": [],
   "source": [
    "def predict_custom_img(img,model):\n",
    "    gray = cv2.cvtColor(img, cv2.COLOR_BGR2GRAY)\n",
    "    resized = cv2.resize(gray, (28,28), interpolation = cv2.INTER_AREA)\n",
    "    newimg = tf.keras.utils.normalize (resized, axis= 1)\n",
    "    newimg = np.array(newimg).reshape(-1, 28, 28, 1)\n",
    "    predictions = model.predict(newimg)\n",
    "    print (np.argmax(predictions))"
   ]
  },
  {
   "cell_type": "code",
   "execution_count": 3,
   "id": "6069d854",
   "metadata": {},
   "outputs": [],
   "source": [
    "modelE = tf.keras.models.load_model(\"C:\\\\Users\\\\shubh\\\\Desktop\\\\Project To Submit\\\\Models\\\\ModelE1.h5\")"
   ]
  },
  {
   "cell_type": "code",
   "execution_count": 4,
   "id": "a9518ace",
   "metadata": {},
   "outputs": [],
   "source": [
    "modelP = tf.keras.models.load_model(\"C:\\\\Users\\\\shubh\\\\Desktop\\\\Project To Submit\\\\Models\\\\ModelP1.h5\")"
   ]
  },
  {
   "cell_type": "code",
   "execution_count": 5,
   "id": "fa8ed18d",
   "metadata": {},
   "outputs": [],
   "source": [
    "import cv2"
   ]
  },
  {
   "cell_type": "code",
   "execution_count": 9,
   "id": "9787e9b7",
   "metadata": {},
   "outputs": [
    {
     "data": {
      "text/plain": [
       "<matplotlib.image.AxesImage at 0x292d350a2b0>"
      ]
     },
     "execution_count": 9,
     "metadata": {},
     "output_type": "execute_result"
    },
    {
     "data": {
      "image/png": "[encoded data removed]",
      "text/plain": [
       "<Figure size 432x288 with 1 Axes>"
      ]
     },
     "metadata": {
      "needs_background": "light"
     },
     "output_type": "display_data"
    }
   ],
   "source": [
    "img = cv2.imread(\"C:\\\\Users\\\\shubh\\\\Desktop\\\\Project To Submit\\\\captured_images\\\\7\\\\7.png\")\n",
    "plt.imshow(img)"
   ]
  },
  {
   "cell_type": "code",
   "execution_count": 10,
   "id": "1c14a82e",
   "metadata": {},
   "outputs": [
    {
     "name": "stdout",
     "output_type": "stream",
     "text": [
      "1/1 [==============================] - 0s 18ms/step\n",
      "7\n"
     ]
    }
   ],
   "source": [
    "predict_custom_img(img, modelE)"
   ]
  },
  {
   "cell_type": "code",
   "execution_count": 11,
   "id": "a0ed2bd7",
   "metadata": {},
   "outputs": [
    {
     "name": "stdout",
     "output_type": "stream",
     "text": [
      "1/1 [==============================] - 0s 17ms/step\n",
      "2\n"
     ]
    }
   ],
   "source": [
    "predict_custom_img(img, modelP)"
   ]
  },
  {
   "cell_type": "code",
   "execution_count": null,
   "id": "4526bac4",
   "metadata": {},
   "outputs": [],
   "source": []
  }
 ],
 "metadata": {
  "kernelspec": {
   "display_name": "Python 3 (ipykernel)",
   "language": "python",
   "name": "python3"
  },
  "language_info": {
   "codemirror_mode": {
    "name": "ipython",
    "version": 3
   },
   "file_extension": ".py",
   "mimetype": "text/x-python",
   "name": "python",
   "nbconvert_exporter": "python",
   "pygments_lexer": "ipython3",
   "version": "3.9.12"
  }
 },
 "nbformat": 4,
 "nbformat_minor": 5
}

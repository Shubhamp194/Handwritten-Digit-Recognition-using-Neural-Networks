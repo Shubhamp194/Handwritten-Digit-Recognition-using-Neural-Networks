{
 "cells": [
  {
   "cell_type": "code",
   "execution_count": 1,
   "id": "d6daaca8",
   "metadata": {},
   "outputs": [],
   "source": [
    "import matplotlib.pyplot as plt\n",
    "import numpy as np\n",
    "import keras"
   ]
  },
  {
   "cell_type": "code",
   "execution_count": 2,
   "id": "f4aca2e2",
   "metadata": {},
   "outputs": [],
   "source": [
    "from keras.datasets import mnist\n",
    "from keras.models import Sequential\n",
    "from keras.layers import Dense, Conv2D, MaxPool2D, Flatten, Dropout"
   ]
  },
  {
   "cell_type": "markdown",
   "id": "c673398c",
   "metadata": {},
   "source": [
    "## Getting data and preprosessing it"
   ]
  },
  {
   "cell_type": "code",
   "execution_count": 3,
   "id": "0c6f11b4",
   "metadata": {},
   "outputs": [
    {
     "data": {
      "text/plain": [
       "((60000, 28, 28), (60000,), (10000, 28, 28), (10000,))"
      ]
     },
     "execution_count": 3,
     "metadata": {},
     "output_type": "execute_result"
    }
   ],
   "source": [
    "(X_train, y_train), (X_test, y_test) = mnist.load_data()\n",
    "X_train.shape , y_train.shape , X_test.shape , y_test.shape"
   ]
  },
  {
   "cell_type": "code",
   "execution_count": 4,
   "id": "863fe8b9",
   "metadata": {},
   "outputs": [],
   "source": [
    "def plot_input_img(i):\n",
    "    plt.imshow(X_train[i], cmap = \"binary\")\n",
    "    plt.title(y_train[i])\n",
    "    plt.axis(\"off\")\n",
    "    plt.show()"
   ]
  },
  {
   "cell_type": "code",
   "execution_count": 5,
   "id": "f30eab9c",
   "metadata": {},
   "outputs": [
    {
     "data": {
      "image/png": "[encoded data removed]",
      "text/plain": [
       "<Figure size 432x288 with 1 Axes>"
      ]
     },
     "metadata": {
      "needs_background": "light"
     },
     "output_type": "display_data"
    },
    {
     "data": {
      "image/png": "[encoded data removed]",
      "text/plain": [
       "<Figure size 432x288 with 1 Axes>"
      ]
     },
     "metadata": {
      "needs_background": "light"
     },
     "output_type": "display_data"
    },
    {
     "data": {
      "image/png": "[encoded data removed]",
      "text/plain": [
       "<Figure size 432x288 with 1 Axes>"
      ]
     },
     "metadata": {
      "needs_background": "light"
     },
     "output_type": "display_data"
    },
    {
     "data": {
      "image/png": "[encoded data removed]",
      "text/plain": [
       "<Figure size 432x288 with 1 Axes>"
      ]
     },
     "metadata": {
      "needs_background": "light"
     },
     "output_type": "display_data"
    },
    {
     "data": {
      "image/png": "[encoded data removed]",
      "text/plain": [
       "<Figure size 432x288 with 1 Axes>"
      ]
     },
     "metadata": {
      "needs_background": "light"
     },
     "output_type": "display_data"
    },
    {
     "data": {
      "image/png": "[encoded data removed]",
      "text/plain": [
       "<Figure size 432x288 with 1 Axes>"
      ]
     },
     "metadata": {
      "needs_background": "light"
     },
     "output_type": "display_data"
    },
    {
     "data": {
      "image/png": "[encoded data removed]",
      "text/plain": [
       "<Figure size 432x288 with 1 Axes>"
      ]
     },
     "metadata": {
      "needs_background": "light"
     },
     "output_type": "display_data"
    },
    {
     "data": {
      "image/png": "[encoded data removed]",
      "text/plain": [
       "<Figure size 432x288 with 1 Axes>"
      ]
     },
     "metadata": {
      "needs_background": "light"
     },
     "output_type": "display_data"
    },
    {
     "data": {
      "image/png": "[encoded data removed]",
      "text/plain": [
       "<Figure size 432x288 with 1 Axes>"
      ]
     },
     "metadata": {
      "needs_background": "light"
     },
     "output_type": "display_data"
    },
    {
     "data": {
      "image/png": "[encoded data removed]",
      "text/plain": [
       "<Figure size 432x288 with 1 Axes>"
      ]
     },
     "metadata": {
      "needs_background": "light"
     },
     "output_type": "display_data"
    }
   ],
   "source": [
    "for i in range(10):\n",
    "    plot_input_img(i)"
   ]
  },
  {
   "cell_type": "code",
   "execution_count": 6,
   "id": "e9db6c8b",
   "metadata": {},
   "outputs": [],
   "source": [
    "# Preprosessing the images\n",
    "# Normalizing the images to [0,1] range\n",
    "X_train = X_train.astype(np.float32)/255\n",
    "X_test = X_test.astype(np.float32)/255\n",
    "\n",
    "# Reshaping / Expanding the dimensions of images to (28,28,1)\n",
    "X_train = np.expand_dims(X_train,-1)\n",
    "X_test = np.expand_dims(X_test,-1)"
   ]
  },
  {
   "cell_type": "code",
   "execution_count": 7,
   "id": "79d3450d",
   "metadata": {},
   "outputs": [
    {
     "data": {
      "text/plain": [
       "(60000, 28, 28, 1)"
      ]
     },
     "execution_count": 7,
     "metadata": {},
     "output_type": "execute_result"
    }
   ],
   "source": [
    "X_train.shape"
   ]
  },
  {
   "cell_type": "code",
   "execution_count": 8,
   "id": "f0cb5b74",
   "metadata": {},
   "outputs": [],
   "source": [
    "## Converting classes to one hot vector\n",
    "y_train = keras.utils.to_categorical(y_train)\n",
    "y_test = keras.utils.to_categorical(y_test)"
   ]
  },
  {
   "cell_type": "code",
   "execution_count": 9,
   "id": "b091ce96",
   "metadata": {},
   "outputs": [],
   "source": [
    "model = Sequential()\n",
    "\n",
    "model.add(Conv2D(32, (3,3), input_shape = (28,28,1), activation= \"relu\"))\n",
    "model.add(MaxPool2D((2,2)))\n",
    "\n",
    "model.add(Conv2D(64, (3,3), activation= \"relu\"))\n",
    "model.add(MaxPool2D((2,2)))\n",
    "\n",
    "model.add(Flatten())\n",
    "\n",
    "model.add(Dropout(0.25))\n",
    "\n",
    "model.add(Dense(10, activation= \"softmax\"))"
   ]
  },
  {
   "cell_type": "code",
   "execution_count": 10,
   "id": "d7c13d61",
   "metadata": {
    "scrolled": false
   },
   "outputs": [
    {
     "name": "stdout",
     "output_type": "stream",
     "text": [
      "Model: \"sequential\"\n",
      "_________________________________________________________________\n",
      " Layer (type)                Output Shape              Param #   \n",
      "=================================================================\n",
      " conv2d (Conv2D)             (None, 26, 26, 32)        320       \n",
      "                                                                 \n",
      " max_pooling2d (MaxPooling2D  (None, 13, 13, 32)       0         \n",
      " )                                                               \n",
      "                                                                 \n",
      " conv2d_1 (Conv2D)           (None, 11, 11, 64)        18496     \n",
      "                                                                 \n",
      " max_pooling2d_1 (MaxPooling  (None, 5, 5, 64)         0         \n",
      " 2D)                                                             \n",
      "                                                                 \n",
      " flatten (Flatten)           (None, 1600)              0         \n",
      "                                                                 \n",
      " dropout (Dropout)           (None, 1600)              0         \n",
      "                                                                 \n",
      " dense (Dense)               (None, 10)                16010     \n",
      "                                                                 \n",
      "=================================================================\n",
      "Total params: 34,826\n",
      "Trainable params: 34,826\n",
      "Non-trainable params: 0\n",
      "_________________________________________________________________\n"
     ]
    }
   ],
   "source": [
    "model.summary()"
   ]
  },
  {
   "cell_type": "code",
   "execution_count": 11,
   "id": "224d14db",
   "metadata": {},
   "outputs": [],
   "source": [
    "model.compile(optimizer= \"adam\", loss = keras.losses.categorical_crossentropy, metrics=[\"accuracy\"])"
   ]
  },
  {
   "cell_type": "code",
   "execution_count": 12,
   "id": "ea0d2ebe",
   "metadata": {},
   "outputs": [],
   "source": [
    "# callbacks\n",
    "\n",
    "from keras.callbacks import EarlyStopping, ModelCheckpoint\n",
    "\n",
    "# Earlystopping\n",
    "\n",
    "es = EarlyStopping(monitor='val_acc', min_delta=0.01, patience=4, verbose=1)\n",
    "\n",
    "# Model checkpoint\n",
    "\n",
    "mc = ModelCheckpoint(\"./bestmodel.h5\", monitor=\"val_acc\", verbose=1, save_best_only=True)\n",
    "\n",
    "cb = [es,mc]"
   ]
  },
  {
   "cell_type": "markdown",
   "id": "a7261dc8",
   "metadata": {},
   "source": [
    "# Model Training"
   ]
  },
  {
   "cell_type": "code",
   "execution_count": 13,
   "id": "829ff9af",
   "metadata": {},
   "outputs": [
    {
     "name": "stdout",
     "output_type": "stream",
     "text": [
      "Epoch 1/5\n",
      "1313/1313 [==============================] - 33s 24ms/step - loss: 0.2201 - accuracy: 0.9345 - val_loss: 0.0842 - val_accuracy: 0.9738\n",
      "Epoch 2/5\n",
      "1313/1313 [==============================] - 31s 23ms/step - loss: 0.0707 - accuracy: 0.9780 - val_loss: 0.0587 - val_accuracy: 0.9829\n",
      "Epoch 3/5\n",
      "1313/1313 [==============================] - 31s 23ms/step - loss: 0.0549 - accuracy: 0.9829 - val_loss: 0.0537 - val_accuracy: 0.9837\n",
      "Epoch 4/5\n",
      "1313/1313 [==============================] - 30s 23ms/step - loss: 0.0423 - accuracy: 0.9869 - val_loss: 0.0466 - val_accuracy: 0.9852\n",
      "Epoch 5/5\n",
      "1313/1313 [==============================] - 31s 23ms/step - loss: 0.0349 - accuracy: 0.9895 - val_loss: 0.0472 - val_accuracy: 0.9864\n"
     ]
    }
   ],
   "source": [
    "his = model.fit(X_train,y_train, epochs=5, validation_split=0.3)"
   ]
  },
  {
   "cell_type": "code",
   "execution_count": 14,
   "id": "9e53126f",
   "metadata": {},
   "outputs": [],
   "source": [
    "model.save(\"C:\\\\Users\\\\shubh\\\\Desktop\\\\Project To Submit\\\\Models\\\\ModelP1.h5\")"
   ]
  },
  {
   "cell_type": "code",
   "execution_count": 24,
   "id": "0d096796",
   "metadata": {},
   "outputs": [],
   "source": [
    "def predict_custom_img(img,model):\n",
    "    gray = cv2.cvtColor(img, cv2.COLOR_BGR2GRAY)\n",
    "    resized = cv2.resize(gray, (28,28), interpolation = cv2.INTER_AREA)\n",
    "    newimg = tf.keras.utils.normalize (resized, axis= 1)\n",
    "    newimg = np.array(newimg).reshape(-1, 28, 28, 1)\n",
    "    predictions = model.predict(newimg)\n",
    "    print (np.argmax(predictions))"
   ]
  },
  {
   "cell_type": "code",
   "execution_count": null,
   "id": "23104744",
   "metadata": {},
   "outputs": [],
   "source": [
    "#model2 = keras.models.load_model(\"EduDigitClassify\")"
   ]
  },
  {
   "cell_type": "code",
   "execution_count": 17,
   "id": "d2b806c8",
   "metadata": {},
   "outputs": [],
   "source": [
    "import cv2"
   ]
  },
  {
   "cell_type": "code",
   "execution_count": null,
   "id": "640f2923",
   "metadata": {},
   "outputs": [],
   "source": [
    "#img=cv2.imread(\"Four.png\")"
   ]
  },
  {
   "cell_type": "code",
   "execution_count": null,
   "id": "52e1c8f6",
   "metadata": {},
   "outputs": [],
   "source": [
    "#plt.imshow(img)"
   ]
  },
  {
   "cell_type": "code",
   "execution_count": null,
   "id": "8bcbf327",
   "metadata": {},
   "outputs": [],
   "source": [
    "#predict_custom_img(img,model2)"
   ]
  },
  {
   "cell_type": "code",
   "execution_count": 18,
   "id": "da347198",
   "metadata": {},
   "outputs": [],
   "source": [
    "img2=cv2.imread(\"C:\\\\Users\\\\shubh\\\\Desktop\\\\Project To Submit\\\\captured_images\\\\6\\\\7.png\")"
   ]
  },
  {
   "cell_type": "code",
   "execution_count": 19,
   "id": "c809e5db",
   "metadata": {},
   "outputs": [
    {
     "data": {
      "text/plain": [
       "<matplotlib.image.AxesImage at 0x23f3f208850>"
      ]
     },
     "execution_count": 19,
     "metadata": {},
     "output_type": "execute_result"
    },
    {
     "data": {
      "image/png": "[encoded data removed]",
      "text/plain": [
       "<Figure size 432x288 with 1 Axes>"
      ]
     },
     "metadata": {
      "needs_background": "light"
     },
     "output_type": "display_data"
    }
   ],
   "source": [
    "plt.imshow(img2)"
   ]
  },
  {
   "cell_type": "code",
   "execution_count": 21,
   "id": "6ff5a215",
   "metadata": {},
   "outputs": [],
   "source": [
    "import tensorflow as tf"
   ]
  },
  {
   "cell_type": "code",
   "execution_count": 22,
   "id": "285e4f44",
   "metadata": {},
   "outputs": [],
   "source": [
    "model2 = tf.keras.models.load_model(\"C:\\\\Users\\\\shubh\\\\Desktop\\\\Project To Submit\\\\Models\\\\ModelP1.h5\")"
   ]
  },
  {
   "cell_type": "code",
   "execution_count": 25,
   "id": "3e1b5d2a",
   "metadata": {},
   "outputs": [
    {
     "name": "stdout",
     "output_type": "stream",
     "text": [
      "1/1 [==============================] - 0s 97ms/step\n",
      "5\n"
     ]
    }
   ],
   "source": [
    "predict_custom_img(img2,model2)"
   ]
  },
  {
   "cell_type": "code",
   "execution_count": 26,
   "id": "baddfec1",
   "metadata": {},
   "outputs": [
    {
     "data": {
      "text/plain": [
       "<matplotlib.image.AxesImage at 0x23f43f35e20>"
      ]
     },
     "execution_count": 26,
     "metadata": {},
     "output_type": "execute_result"
    },
    {
     "data": {
      "image/png": "[encoded data removed]",
      "text/plain": [
       "<Figure size 432x288 with 1 Axes>"
      ]
     },
     "metadata": {
      "needs_background": "light"
     },
     "output_type": "display_data"
    }
   ],
   "source": [
    "img2=cv2.imread(\"C:\\\\Users\\\\shubh\\\\Desktop\\\\Project To Submit\\\\captured_images\\\\3\\\\7.png\")\n",
    "plt.imshow(img2)"
   ]
  },
  {
   "cell_type": "code",
   "execution_count": 27,
   "id": "6d6a9fc3",
   "metadata": {},
   "outputs": [
    {
     "name": "stdout",
     "output_type": "stream",
     "text": [
      "1/1 [==============================] - 0s 19ms/step\n",
      "3\n"
     ]
    }
   ],
   "source": [
    "predict_custom_img(img2,model2)"
   ]
  },
  {
   "cell_type": "code",
   "execution_count": null,
   "id": "b602492c",
   "metadata": {},
   "outputs": [],
   "source": []
  }
 ],
 "metadata": {
  "kernelspec": {
   "display_name": "Python 3 (ipykernel)",
   "language": "python",
   "name": "python3"
  },
  "language_info": {
   "codemirror_mode": {
    "name": "ipython",
    "version": 3
   },
   "file_extension": ".py",
   "mimetype": "text/x-python",
   "name": "python",
   "nbconvert_exporter": "python",
   "pygments_lexer": "ipython3",
   "version": "3.9.12"
  }
 },
 "nbformat": 4,
 "nbformat_minor": 5
}
